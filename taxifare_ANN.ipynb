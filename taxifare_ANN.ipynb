{
  "cells": [
    {
      "cell_type": "code",
      "execution_count": null,
      "metadata": {
        "id": "NkdLu5J8bwAK"
      },
      "outputs": [],
      "source": [
        "# Importing the packages\n",
        "import pandas as pd\n",
        "import numpy as np\n",
        "import seaborn as sns"
      ]
    },
    {
      "cell_type": "code",
      "execution_count": null,
      "metadata": {
        "id": "aF38vpeDbwAL"
      },
      "outputs": [],
      "source": [
        "#Loading the data\n",
        "df=pd.read_csv('taxifare.csv')"
      ]
    },
    {
      "cell_type": "code",
      "execution_count": null,
      "metadata": {
        "colab": {
          "base_uri": "https://localhost:8080/"
        },
        "id": "TljR2DXFbwAL",
        "outputId": "89acd67f-fe99-429d-9ef2-1748b465e1b1"
      },
      "outputs": [
        {
          "output_type": "stream",
          "name": "stdout",
          "text": [
            "<class 'pandas.core.frame.DataFrame'>\n",
            "RangeIndex: 120000 entries, 0 to 119999\n",
            "Data columns (total 8 columns):\n",
            " #   Column             Non-Null Count   Dtype  \n",
            "---  ------             --------------   -----  \n",
            " 0   pickup_datetime    120000 non-null  object \n",
            " 1   fare_amount        120000 non-null  float64\n",
            " 2   fare_class         120000 non-null  int64  \n",
            " 3   pickup_longitude   120000 non-null  float64\n",
            " 4   pickup_latitude    120000 non-null  float64\n",
            " 5   dropoff_longitude  120000 non-null  float64\n",
            " 6   dropoff_latitude   120000 non-null  float64\n",
            " 7   passenger_count    120000 non-null  int64  \n",
            "dtypes: float64(5), int64(2), object(1)\n",
            "memory usage: 7.3+ MB\n"
          ]
        }
      ],
      "source": [
        "df.info()"
      ]
    },
    {
      "cell_type": "markdown",
      "metadata": {
        "id": "IUHD4AiabwAL"
      },
      "source": [
        "## Feature Engineering"
      ]
    },
    {
      "cell_type": "code",
      "execution_count": null,
      "metadata": {
        "id": "9KSz8F9ZbwAM"
      },
      "outputs": [],
      "source": [
        "import datetime"
      ]
    },
    {
      "cell_type": "code",
      "execution_count": null,
      "metadata": {
        "id": "Vnd5Sa2kbwAM"
      },
      "outputs": [],
      "source": [
        "# UTC time is 4 hours ahead of NYC time\n",
        "df['pickup_datetime'] =pd.to_datetime(df['pickup_datetime']) - datetime.timedelta(hours=4)"
      ]
    },
    {
      "cell_type": "code",
      "execution_count": null,
      "metadata": {
        "colab": {
          "base_uri": "https://localhost:8080/"
        },
        "id": "WWXjL52EbwAM",
        "outputId": "436563bb-7d05-43e4-908d-2917ac3137f3"
      },
      "outputs": [
        {
          "output_type": "stream",
          "name": "stdout",
          "text": [
            "<class 'pandas.core.frame.DataFrame'>\n",
            "RangeIndex: 120000 entries, 0 to 119999\n",
            "Data columns (total 8 columns):\n",
            " #   Column             Non-Null Count   Dtype              \n",
            "---  ------             --------------   -----              \n",
            " 0   pickup_datetime    120000 non-null  datetime64[ns, UTC]\n",
            " 1   fare_amount        120000 non-null  float64            \n",
            " 2   fare_class         120000 non-null  int64              \n",
            " 3   pickup_longitude   120000 non-null  float64            \n",
            " 4   pickup_latitude    120000 non-null  float64            \n",
            " 5   dropoff_longitude  120000 non-null  float64            \n",
            " 6   dropoff_latitude   120000 non-null  float64            \n",
            " 7   passenger_count    120000 non-null  int64              \n",
            "dtypes: datetime64[ns, UTC](1), float64(5), int64(2)\n",
            "memory usage: 7.3 MB\n"
          ]
        }
      ],
      "source": [
        "df.info()"
      ]
    },
    {
      "cell_type": "code",
      "execution_count": null,
      "metadata": {
        "id": "M0d73sWJbwAM"
      },
      "outputs": [],
      "source": [
        "df['Year']=df['pickup_datetime'].dt.year\n",
        "df['Month']= df['pickup_datetime'].dt.month\n",
        "df['Day']=df['pickup_datetime'].dt.day\n",
        "df['Hour']=df['pickup_datetime'].dt.hour\n",
        "df['Minutes']=df['pickup_datetime'].dt.minute"
      ]
    },
    {
      "cell_type": "code",
      "execution_count": null,
      "metadata": {
        "id": "XGlbSI-gbwAN"
      },
      "outputs": [],
      "source": [
        "# Derving part of day 0 means its AM and 1 means its PM\n",
        "df['part_of_day'] =np.where(df['Hour']<12,0,1)"
      ]
    },
    {
      "cell_type": "code",
      "execution_count": null,
      "metadata": {
        "id": "OPy2VUAObwAN"
      },
      "outputs": [],
      "source": [
        "df.drop(['pickup_datetime'], axis=1, inplace=True)"
      ]
    },
    {
      "cell_type": "markdown",
      "metadata": {
        "id": "Y0O0AZEzbwAN"
      },
      "source": [
        "# Calculating the Haversine Distance for pickup and dropoff locations\n"
      ]
    },
    {
      "cell_type": "code",
      "execution_count": null,
      "metadata": {
        "id": "YdzTIf2vbwAN"
      },
      "outputs": [],
      "source": [
        "def haversine(dataframe):\n",
        "    latitude1= np.radians(df[\"pickup_latitude\"])\n",
        "    latitude2= np.radians(df['dropoff_latitude'])\n",
        "    difference_latitude= np.radians(df['dropoff_latitude']-df['pickup_latitude'])\n",
        "    difference_longitude= np.radians(df['dropoff_longitude'] - df['pickup_longitude'])\n",
        "    a = np.sin(difference_latitude/2)**2 + np.cos(latitude1) * np.cos(latitude2)*np.sin(difference_longitude/2)**2\n",
        "    b = 2*np.arctan2(np.sqrt(a),np.sqrt(1-a))\n",
        "    c= 6371\n",
        "    return c*b"
      ]
    },
    {
      "cell_type": "code",
      "execution_count": null,
      "metadata": {
        "id": "FUM9JsvJbwAN"
      },
      "outputs": [],
      "source": [
        "# Total distance travelled by customer in the taxi\n",
        "df['Distance_Travelled'] =haversine(df)\n",
        "#Converting Kilometers to Miles\n",
        "df['Distance_Travelled'] = df['Distance_Travelled'] /1.6103"
      ]
    },
    {
      "cell_type": "code",
      "execution_count": null,
      "metadata": {
        "id": "J-MOQq3hbwAN"
      },
      "outputs": [],
      "source": [
        "df.drop(['pickup_longitude', 'pickup_latitude', 'dropoff_longitude','dropoff_latitude'], axis=1, inplace=True)"
      ]
    },
    {
      "cell_type": "markdown",
      "metadata": {
        "id": "MNqdmal_bwAQ"
      },
      "source": [
        "# Artificial Neural Networks"
      ]
    },
    {
      "cell_type": "code",
      "source": [
        "x=df.iloc[:,0:-1]\n",
        "y=df.iloc[:,-1]"
      ],
      "metadata": {
        "id": "zR6_ueyZiOKP"
      },
      "execution_count": null,
      "outputs": []
    },
    {
      "cell_type": "code",
      "execution_count": null,
      "metadata": {
        "id": "LtPHcdDrbwAQ"
      },
      "outputs": [],
      "source": [
        "from sklearn.model_selection import train_test_split\n",
        "x_train,x_test,y_train,y_test=train_test_split(x,y,train_size=0.2,random_state=5)"
      ]
    },
    {
      "cell_type": "code",
      "execution_count": null,
      "metadata": {
        "id": "9qlS5R8ebwAQ"
      },
      "outputs": [],
      "source": [
        "\n",
        "# Part 2 - Now let's make the ANN!\n",
        "\n",
        "# Importing the Keras libraries and packages\n",
        "import tensorflow.keras\n",
        "from tensorflow.keras.models import Sequential\n",
        "from tensorflow.keras.layers import Dense\n",
        "from tensorflow.keras.layers import LeakyReLU,PReLU,ELU\n",
        "from tensorflow.keras.layers import Dropout"
      ]
    },
    {
      "cell_type": "code",
      "execution_count": null,
      "metadata": {
        "colab": {
          "base_uri": "https://localhost:8080/"
        },
        "id": "Jmdei3YybwAW",
        "outputId": "7949bb98-e4f8-475c-d8d8-6d482db08178"
      },
      "outputs": [
        {
          "output_type": "stream",
          "name": "stdout",
          "text": [
            "Model: \"sequential\"\n",
            "_________________________________________________________________\n",
            " Layer (type)                Output Shape              Param #   \n",
            "=================================================================\n",
            " dense (Dense)               (None, 128)               1280      \n",
            "                                                                 \n",
            " dense_1 (Dense)             (None, 256)               33024     \n",
            "                                                                 \n",
            " dense_2 (Dense)             (None, 256)               65792     \n",
            "                                                                 \n",
            " dense_3 (Dense)             (None, 256)               65792     \n",
            "                                                                 \n",
            " dense_4 (Dense)             (None, 1)                 257       \n",
            "                                                                 \n",
            "=================================================================\n",
            "Total params: 166145 (649.00 KB)\n",
            "Trainable params: 166145 (649.00 KB)\n",
            "Non-trainable params: 0 (0.00 Byte)\n",
            "_________________________________________________________________\n",
            "Epoch 1/20\n",
            "1608/1608 [==============================] - 19s 11ms/step - loss: 0.9713 - mean_absolute_error: 0.9713 - val_loss: 0.6072 - val_mean_absolute_error: 0.6072\n",
            "Epoch 2/20\n",
            "1608/1608 [==============================] - 11s 7ms/step - loss: 0.5739 - mean_absolute_error: 0.5739 - val_loss: 0.5101 - val_mean_absolute_error: 0.5101\n",
            "Epoch 3/20\n",
            "1608/1608 [==============================] - 10s 6ms/step - loss: 0.5487 - mean_absolute_error: 0.5487 - val_loss: 0.5217 - val_mean_absolute_error: 0.5217\n",
            "Epoch 4/20\n",
            "1608/1608 [==============================] - 11s 7ms/step - loss: 0.5436 - mean_absolute_error: 0.5436 - val_loss: 0.5136 - val_mean_absolute_error: 0.5136\n",
            "Epoch 5/20\n",
            "1608/1608 [==============================] - 12s 7ms/step - loss: 0.5395 - mean_absolute_error: 0.5395 - val_loss: 0.5870 - val_mean_absolute_error: 0.5870\n",
            "Epoch 6/20\n",
            "1608/1608 [==============================] - 12s 7ms/step - loss: 0.5269 - mean_absolute_error: 0.5269 - val_loss: 0.5088 - val_mean_absolute_error: 0.5088\n",
            "Epoch 7/20\n",
            "1608/1608 [==============================] - 10s 6ms/step - loss: 0.5311 - mean_absolute_error: 0.5311 - val_loss: 0.5200 - val_mean_absolute_error: 0.5200\n",
            "Epoch 8/20\n",
            "1608/1608 [==============================] - 9s 6ms/step - loss: 0.5219 - mean_absolute_error: 0.5219 - val_loss: 0.5403 - val_mean_absolute_error: 0.5403\n",
            "Epoch 9/20\n",
            "1608/1608 [==============================] - 11s 7ms/step - loss: 0.5284 - mean_absolute_error: 0.5284 - val_loss: 0.5263 - val_mean_absolute_error: 0.5263\n",
            "Epoch 10/20\n",
            "1608/1608 [==============================] - 12s 8ms/step - loss: 0.5192 - mean_absolute_error: 0.5192 - val_loss: 0.4929 - val_mean_absolute_error: 0.4929\n",
            "Epoch 11/20\n",
            "1608/1608 [==============================] - 11s 7ms/step - loss: 0.5153 - mean_absolute_error: 0.5153 - val_loss: 0.6611 - val_mean_absolute_error: 0.6611\n",
            "Epoch 12/20\n",
            "1608/1608 [==============================] - 9s 6ms/step - loss: 0.5141 - mean_absolute_error: 0.5141 - val_loss: 0.4932 - val_mean_absolute_error: 0.4932\n",
            "Epoch 13/20\n",
            "1608/1608 [==============================] - 12s 7ms/step - loss: 0.5156 - mean_absolute_error: 0.5156 - val_loss: 0.5922 - val_mean_absolute_error: 0.5922\n",
            "Epoch 14/20\n",
            "1608/1608 [==============================] - 13s 8ms/step - loss: 0.5156 - mean_absolute_error: 0.5156 - val_loss: 0.4956 - val_mean_absolute_error: 0.4956\n",
            "Epoch 15/20\n",
            "1608/1608 [==============================] - 14s 8ms/step - loss: 0.5121 - mean_absolute_error: 0.5121 - val_loss: 0.5129 - val_mean_absolute_error: 0.5129\n",
            "Epoch 16/20\n",
            "1608/1608 [==============================] - 16s 10ms/step - loss: 0.5130 - mean_absolute_error: 0.5130 - val_loss: 0.5236 - val_mean_absolute_error: 0.5236\n",
            "Epoch 17/20\n",
            "1608/1608 [==============================] - 11s 7ms/step - loss: 0.5186 - mean_absolute_error: 0.5186 - val_loss: 0.4892 - val_mean_absolute_error: 0.4892\n",
            "Epoch 18/20\n",
            "1608/1608 [==============================] - 9s 5ms/step - loss: 0.5119 - mean_absolute_error: 0.5119 - val_loss: 0.4920 - val_mean_absolute_error: 0.4920\n",
            "Epoch 19/20\n",
            "1608/1608 [==============================] - 11s 7ms/step - loss: 0.5104 - mean_absolute_error: 0.5104 - val_loss: 0.5005 - val_mean_absolute_error: 0.5005\n",
            "Epoch 20/20\n",
            "1608/1608 [==============================] - 11s 7ms/step - loss: 0.5114 - mean_absolute_error: 0.5114 - val_loss: 0.4877 - val_mean_absolute_error: 0.4877\n"
          ]
        }
      ],
      "source": [
        "NN_model = Sequential()\n",
        "\n",
        "# The Input Layer :\n",
        "NN_model.add(Dense(128, kernel_initializer='normal',input_dim = x_train.shape[1], activation='relu'))\n",
        "\n",
        "# The Hidden Layers :\n",
        "NN_model.add(Dense(256, kernel_initializer='normal',activation='relu'))\n",
        "NN_model.add(Dense(256, kernel_initializer='normal',activation='relu'))\n",
        "NN_model.add(Dense(256, kernel_initializer='normal',activation='relu'))\n",
        "\n",
        "# The Output Layer :\n",
        "NN_model.add(Dense(1, kernel_initializer='normal',activation='linear'))\n",
        "\n",
        "# Compile the network :\n",
        "NN_model.compile(loss='mean_absolute_error', optimizer='adam', metrics=['mean_absolute_error'])\n",
        "NN_model.summary()\n",
        "\n",
        "# Fitting the ANN to the Training set\n",
        "model_history=NN_model.fit(x_train, y_train,validation_split=0.33, batch_size = 10, epochs = 20)"
      ]
    },
    {
      "cell_type": "markdown",
      "source": [
        "## Model Evaluation"
      ],
      "metadata": {
        "id": "9g97WaDQfj32"
      }
    },
    {
      "cell_type": "code",
      "source": [
        "predict=NN_model.predict(x_test)"
      ],
      "metadata": {
        "colab": {
          "base_uri": "https://localhost:8080/"
        },
        "id": "H1nFe9XXfqrR",
        "outputId": "dc153af1-6205-4172-ebc1-92e3ef00f976"
      },
      "execution_count": null,
      "outputs": [
        {
          "output_type": "stream",
          "name": "stdout",
          "text": [
            "3000/3000 [==============================] - 7s 2ms/step\n"
          ]
        }
      ]
    },
    {
      "cell_type": "code",
      "source": [
        "import seaborn as sns\n",
        "sns.distplot(y_test.values.reshape(-1,1)-predict)"
      ],
      "metadata": {
        "colab": {
          "base_uri": "https://localhost:8080/",
          "height": 648
        },
        "id": "yUneR3kegI4c",
        "outputId": "5e3ea55d-1625-453d-a572-1553b5d3a334"
      },
      "execution_count": null,
      "outputs": [
        {
          "output_type": "stream",
          "name": "stderr",
          "text": [
            "<ipython-input-19-3220d5c20fd9>:2: UserWarning: \n",
            "\n",
            "`distplot` is a deprecated function and will be removed in seaborn v0.14.0.\n",
            "\n",
            "Please adapt your code to use either `displot` (a figure-level function with\n",
            "similar flexibility) or `histplot` (an axes-level function for histograms).\n",
            "\n",
            "For a guide to updating your code to use the new functions, please see\n",
            "https://gist.github.com/mwaskom/de44147ed2974457ad6372750bbe5751\n",
            "\n",
            "  sns.distplot(y_test.values.reshape(-1,1)-predict)\n"
          ]
        },
        {
          "output_type": "execute_result",
          "data": {
            "text/plain": [
              "<Axes: ylabel='Density'>"
            ]
          },
          "metadata": {},
          "execution_count": 19
        },
        {
          "output_type": "display_data",
          "data": {
            "text/plain": [
              "<Figure size 640x480 with 1 Axes>"
            ],
            "image/png": "[encoded data removed]"
          },
          "metadata": {}
        }
      ]
    },
    {
      "cell_type": "code",
      "source": [
        "from sklearn import metrics\n",
        "print('MAE:', metrics.mean_absolute_error(y_test, predict))\n",
        "print('MSE:', metrics.mean_squared_error(y_test, predict))\n",
        "print('RMSE:', np.sqrt(metrics.mean_squared_error(y_test, predict)))"
      ],
      "metadata": {
        "colab": {
          "base_uri": "https://localhost:8080/"
        },
        "id": "Jiy6UJkpgI-f",
        "outputId": "e498a566-7dec-4870-944f-c75ca25271e8"
      },
      "execution_count": null,
      "outputs": [
        {
          "output_type": "stream",
          "name": "stdout",
          "text": [
            "MAE: 0.48837546507768986\n",
            "MSE: 0.8948827394221512\n",
            "RMSE: 0.9459824202500547\n"
          ]
        }
      ]
    },
    {
      "cell_type": "code",
      "source": [
        "import pickle\n",
        "pickle.dump(NN_model,open(\"best_neural_model.pkl\",'wb'))"
      ],
      "metadata": {
        "id": "4Q5OIZNx-tek"
      },
      "execution_count": 36,
      "outputs": []
    },
    {
      "cell_type": "markdown",
      "source": [
        "#### TPOTRegressor Automated Library"
      ],
      "metadata": {
        "id": "0i1_nhI4g4Gf"
      }
    },
    {
      "cell_type": "code",
      "source": [
        "from tpot import TPOTRegressor"
      ],
      "metadata": {
        "id": "Qn1RUBF9hNqq"
      },
      "execution_count": null,
      "outputs": []
    },
    {
      "cell_type": "code",
      "source": [
        "tpot = TPOTRegressor(generations=1, population_size=10, verbosity=2, random_state=42)\n",
        "tpot.fit(x_train, y_train)\n",
        "print(tpot.score(x_test, y_test))\n",
        "tpot.export('tpot_taxiFaredocumentation_pipeline.py')"
      ],
      "metadata": {
        "colab": {
          "base_uri": "https://localhost:8080/",
          "height": 128,
          "referenced_widgets": [
            "2cbc34302af143988caeeb5b5cfd1e3c",
            "27d9e27994c64c95bc052442b64dc1b3",
            "e4e36efb314e4c12af6994567fa6adc1",
            "e063085cb2cf46748b8e53e768a0300b",
            "16b5a5a44a0749b6a7d6974a8b92ec7e",
            "300cf433eb7046788a4cb91c2e03bff6",
            "e007b76344f34a9b8dc4ea855cc0cf82",
            "5007a8730f114c7d9fb2d2e662b5880a",
            "ff24cbf136cd4c869d152a58ef7eea9e",
            "fbfbec94f05747b1bbce094cb09d372f",
            "c8a0995deee24d058142d7a3ad6165cb"
          ]
        },
        "id": "E2OTyISPjRtA",
        "outputId": "3774f113-41b3-4098-a6e7-8240063de744"
      },
      "execution_count": null,
      "outputs": [
        {
          "output_type": "display_data",
          "data": {
            "text/plain": [
              "Optimization Progress:   0%|          | 0/20 [00:00<?, ?pipeline/s]"
            ],
            "application/vnd.jupyter.widget-view+json": {
              "version_major": 2,
              "version_minor": 0,
              "model_id": "2cbc34302af143988caeeb5b5cfd1e3c"
            }
          },
          "metadata": {}
        },
        {
          "output_type": "stream",
          "name": "stdout",
          "text": [
            "\n",
            "Generation 1 - Current best internal CV score: -0.7840871322242121\n",
            "\n",
            "Best pipeline: RandomForestRegressor(input_matrix, bootstrap=True, max_features=0.7500000000000001, min_samples_leaf=11, min_samples_split=9, n_estimators=100)\n",
            "-0.8007523233719758\n"
          ]
        }
      ]
    },
    {
      "cell_type": "code",
      "source": [
        "import numpy as np\n",
        "import pandas as pd\n",
        "from sklearn.ensemble import ExtraTreesRegressor,RandomForestRegressor\n",
        "from sklearn.linear_model import ElasticNetCV\n",
        "from sklearn.model_selection import train_test_split\n",
        "from sklearn.pipeline import make_pipeline, make_union\n",
        "from tpot.builtins import StackingEstimator\n",
        "from tpot.export_utils import set_param_recursive\n",
        "\n",
        "# NOTE: Make sure that the outcome column is labeled 'target' in the data file\n",
        "tpot_data = pd.read_csv('preprocessed_taxifare.csv', sep=',', dtype=np.float64)\n",
        "features = tpot_data.drop('fare_amount', axis=1)\n",
        "train_features, test_features, train_target, test_target = train_test_split(features, tpot_data['fare_amount'], random_state=42)"
      ],
      "metadata": {
        "id": "9CGu0Ud1jkpB"
      },
      "execution_count": 27,
      "outputs": []
    },
    {
      "cell_type": "code",
      "source": [
        "\n",
        "# Define the pipeline\n",
        "exported_pipeline = make_pipeline(\n",
        "    RandomForestRegressor(bootstrap=True, max_features=0.75,\n",
        "                          min_samples_leaf=11, min_samples_split=9,\n",
        "                          n_estimators=100, random_state=42)\n",
        ")\n",
        "\n",
        "# Fix random state for all the steps in exported pipeline\n",
        "set_param_recursive(exported_pipeline.steps, 'random_state', 42)\n",
        "\n",
        "exported_pipeline.fit(train_features, train_target)\n",
        "\n",
        "# Predict the results\n",
        "results = exported_pipeline.predict(test_features)"
      ],
      "metadata": {
        "id": "FcBM_gNXjy3x"
      },
      "execution_count": 30,
      "outputs": []
    },
    {
      "cell_type": "code",
      "source": [
        "import seaborn as sns\n",
        "sns.distplot(test_target.values-results)"
      ],
      "metadata": {
        "id": "guyxgWCNj4VW",
        "colab": {
          "base_uri": "https://localhost:8080/",
          "height": 648
        },
        "outputId": "7a55d416-6629-430c-9fb0-b1117979e904"
      },
      "execution_count": 31,
      "outputs": [
        {
          "output_type": "stream",
          "name": "stderr",
          "text": [
            "<ipython-input-31-e9a9dae0500d>:2: UserWarning: \n",
            "\n",
            "`distplot` is a deprecated function and will be removed in seaborn v0.14.0.\n",
            "\n",
            "Please adapt your code to use either `displot` (a figure-level function with\n",
            "similar flexibility) or `histplot` (an axes-level function for histograms).\n",
            "\n",
            "For a guide to updating your code to use the new functions, please see\n",
            "https://gist.github.com/mwaskom/de44147ed2974457ad6372750bbe5751\n",
            "\n",
            "  sns.distplot(test_target.values-results)\n"
          ]
        },
        {
          "output_type": "execute_result",
          "data": {
            "text/plain": [
              "<Axes: ylabel='Density'>"
            ]
          },
          "metadata": {},
          "execution_count": 31
        },
        {
          "output_type": "display_data",
          "data": {
            "text/plain": [
              "<Figure size 640x480 with 1 Axes>"
            ],
            "image/png": "[encoded data removed]"
          },
          "metadata": {}
        }
      ]
    },
    {
      "cell_type": "code",
      "source": [
        "\n",
        "from sklearn import metrics\n",
        "print('MAE:', metrics.mean_absolute_error(test_target, results))\n",
        "print('MSE:', metrics.mean_squared_error(test_target, results))\n",
        "print('RMSE:', np.sqrt(metrics.mean_squared_error(test_target, results)))"
      ],
      "metadata": {
        "id": "YNlOC0t_j4YP",
        "colab": {
          "base_uri": "https://localhost:8080/"
        },
        "outputId": "1ba9ce5b-f5fe-43bf-bdad-0c65821e3839"
      },
      "execution_count": 33,
      "outputs": [
        {
          "output_type": "stream",
          "name": "stdout",
          "text": [
            "MAE: 1.4053686359660216\n",
            "MSE: 6.336562996055803\n",
            "RMSE: 2.5172530655569383\n"
          ]
        }
      ]
    },
    {
      "cell_type": "code",
      "source": [],
      "metadata": {
        "id": "107fDasf-Sam"
      },
      "execution_count": null,
      "outputs": []
    }
  ],
  "metadata": {
    "kernelspec": {
      "display_name": "Python 3",
      "language": "python",
      "name": "python3"
    },
    "language_info": {
      "codemirror_mode": {
        "name": "ipython",
        "version": 3
      },
      "file_extension": ".py",
      "mimetype": "text/x-python",
      "name": "python",
      "nbconvert_exporter": "python",
      "pygments_lexer": "ipython3",
      "version": "3.11.7"
    },
    "colab": {
      "provenance": []
    },
    "widgets": {
      "application/vnd.jupyter.widget-state+json": {
        "2cbc34302af143988caeeb5b5cfd1e3c": {
          "model_module": "@jupyter-widgets/controls",
          "model_name": "HBoxModel",
          "model_module_version": "1.5.0",
          "state": {
            "_dom_classes": [],
            "_model_module": "@jupyter-widgets/controls",
            "_model_module_version": "1.5.0",
            "_model_name": "HBoxModel",
            "_view_count": null,
            "_view_module": "@jupyter-widgets/controls",
            "_view_module_version": "1.5.0",
            "_view_name": "HBoxView",
            "box_style": "",
            "children": [
              "IPY_MODEL_27d9e27994c64c95bc052442b64dc1b3",
              "IPY_MODEL_e4e36efb314e4c12af6994567fa6adc1",
              "IPY_MODEL_e063085cb2cf46748b8e53e768a0300b"
            ],
            "layout": "IPY_MODEL_16b5a5a44a0749b6a7d6974a8b92ec7e"
          }
        },
        "27d9e27994c64c95bc052442b64dc1b3": {
          "model_module": "@jupyter-widgets/controls",
          "model_name": "HTMLModel",
          "model_module_version": "1.5.0",
          "state": {
            "_dom_classes": [],
            "_model_module": "@jupyter-widgets/controls",
            "_model_module_version": "1.5.0",
            "_model_name": "HTMLModel",
            "_view_count": null,
            "_view_module": "@jupyter-widgets/controls",
            "_view_module_version": "1.5.0",
            "_view_name": "HTMLView",
            "description": "",
            "description_tooltip": null,
            "layout": "IPY_MODEL_300cf433eb7046788a4cb91c2e03bff6",
            "placeholder": "​",
            "style": "IPY_MODEL_e007b76344f34a9b8dc4ea855cc0cf82",
            "value": "Optimization Progress: 100%"
          }
        },
        "e4e36efb314e4c12af6994567fa6adc1": {
          "model_module": "@jupyter-widgets/controls",
          "model_name": "FloatProgressModel",
          "model_module_version": "1.5.0",
          "state": {
            "_dom_classes": [],
            "_model_module": "@jupyter-widgets/controls",
            "_model_module_version": "1.5.0",
            "_model_name": "FloatProgressModel",
            "_view_count": null,
            "_view_module": "@jupyter-widgets/controls",
            "_view_module_version": "1.5.0",
            "_view_name": "ProgressView",
            "bar_style": "",
            "description": "",
            "description_tooltip": null,
            "layout": "IPY_MODEL_5007a8730f114c7d9fb2d2e662b5880a",
            "max": 20,
            "min": 0,
            "orientation": "horizontal",
            "style": "IPY_MODEL_ff24cbf136cd4c869d152a58ef7eea9e",
            "value": 20
          }
        },
        "e063085cb2cf46748b8e53e768a0300b": {
          "model_module": "@jupyter-widgets/controls",
          "model_name": "HTMLModel",
          "model_module_version": "1.5.0",
          "state": {
            "_dom_classes": [],
            "_model_module": "@jupyter-widgets/controls",
            "_model_module_version": "1.5.0",
            "_model_name": "HTMLModel",
            "_view_count": null,
            "_view_module": "@jupyter-widgets/controls",
            "_view_module_version": "1.5.0",
            "_view_name": "HTMLView",
            "description": "",
            "description_tooltip": null,
            "layout": "IPY_MODEL_fbfbec94f05747b1bbce094cb09d372f",
            "placeholder": "​",
            "style": "IPY_MODEL_c8a0995deee24d058142d7a3ad6165cb",
            "value": " 20/20 [03:39&lt;00:00, 18.02s/pipeline]"
          }
        },
        "16b5a5a44a0749b6a7d6974a8b92ec7e": {
          "model_module": "@jupyter-widgets/base",
          "model_name": "LayoutModel",
          "model_module_version": "1.2.0",
          "state": {
            "_model_module": "@jupyter-widgets/base",
            "_model_module_version": "1.2.0",
            "_model_name": "LayoutModel",
            "_view_count": null,
            "_view_module": "@jupyter-widgets/base",
            "_view_module_version": "1.2.0",
            "_view_name": "LayoutView",
            "align_content": null,
            "align_items": null,
            "align_self": null,
            "border": null,
            "bottom": null,
            "display": null,
            "flex": null,
            "flex_flow": null,
            "grid_area": null,
            "grid_auto_columns": null,
            "grid_auto_flow": null,
            "grid_auto_rows": null,
            "grid_column": null,
            "grid_gap": null,
            "grid_row": null,
            "grid_template_areas": null,
            "grid_template_columns": null,
            "grid_template_rows": null,
            "height": null,
            "justify_content": null,
            "justify_items": null,
            "left": null,
            "margin": null,
            "max_height": null,
            "max_width": null,
            "min_height": null,
            "min_width": null,
            "object_fit": null,
            "object_position": null,
            "order": null,
            "overflow": null,
            "overflow_x": null,
            "overflow_y": null,
            "padding": null,
            "right": null,
            "top": null,
            "visibility": "hidden",
            "width": null
          }
        },
        "300cf433eb7046788a4cb91c2e03bff6": {
          "model_module": "@jupyter-widgets/base",
          "model_name": "LayoutModel",
          "model_module_version": "1.2.0",
          "state": {
            "_model_module": "@jupyter-widgets/base",
            "_model_module_version": "1.2.0",
            "_model_name": "LayoutModel",
            "_view_count": null,
            "_view_module": "@jupyter-widgets/base",
            "_view_module_version": "1.2.0",
            "_view_name": "LayoutView",
            "align_content": null,
            "align_items": null,
            "align_self": null,
            "border": null,
            "bottom": null,
            "display": null,
            "flex": null,
            "flex_flow": null,
            "grid_area": null,
            "grid_auto_columns": null,
            "grid_auto_flow": null,
            "grid_auto_rows": null,
            "grid_column": null,
            "grid_gap": null,
            "grid_row": null,
            "grid_template_areas": null,
            "grid_template_columns": null,
            "grid_template_rows": null,
            "height": null,
            "justify_content": null,
            "justify_items": null,
            "left": null,
            "margin": null,
            "max_height": null,
            "max_width": null,
            "min_height": null,
            "min_width": null,
            "object_fit": null,
            "object_position": null,
            "order": null,
            "overflow": null,
            "overflow_x": null,
            "overflow_y": null,
            "padding": null,
            "right": null,
            "top": null,
            "visibility": null,
            "width": null
          }
        },
        "e007b76344f34a9b8dc4ea855cc0cf82": {
          "model_module": "@jupyter-widgets/controls",
          "model_name": "DescriptionStyleModel",
          "model_module_version": "1.5.0",
          "state": {
            "_model_module": "@jupyter-widgets/controls",
            "_model_module_version": "1.5.0",
            "_model_name": "DescriptionStyleModel",
            "_view_count": null,
            "_view_module": "@jupyter-widgets/base",
            "_view_module_version": "1.2.0",
            "_view_name": "StyleView",
            "description_width": ""
          }
        },
        "5007a8730f114c7d9fb2d2e662b5880a": {
          "model_module": "@jupyter-widgets/base",
          "model_name": "LayoutModel",
          "model_module_version": "1.2.0",
          "state": {
            "_model_module": "@jupyter-widgets/base",
            "_model_module_version": "1.2.0",
            "_model_name": "LayoutModel",
            "_view_count": null,
            "_view_module": "@jupyter-widgets/base",
            "_view_module_version": "1.2.0",
            "_view_name": "LayoutView",
            "align_content": null,
            "align_items": null,
            "align_self": null,
            "border": null,
            "bottom": null,
            "display": null,
            "flex": null,
            "flex_flow": null,
            "grid_area": null,
            "grid_auto_columns": null,
            "grid_auto_flow": null,
            "grid_auto_rows": null,
            "grid_column": null,
            "grid_gap": null,
            "grid_row": null,
            "grid_template_areas": null,
            "grid_template_columns": null,
            "grid_template_rows": null,
            "height": null,
            "justify_content": null,
            "justify_items": null,
            "left": null,
            "margin": null,
            "max_height": null,
            "max_width": null,
            "min_height": null,
            "min_width": null,
            "object_fit": null,
            "object_position": null,
            "order": null,
            "overflow": null,
            "overflow_x": null,
            "overflow_y": null,
            "padding": null,
            "right": null,
            "top": null,
            "visibility": null,
            "width": null
          }
        },
        "ff24cbf136cd4c869d152a58ef7eea9e": {
          "model_module": "@jupyter-widgets/controls",
          "model_name": "ProgressStyleModel",
          "model_module_version": "1.5.0",
          "state": {
            "_model_module": "@jupyter-widgets/controls",
            "_model_module_version": "1.5.0",
            "_model_name": "ProgressStyleModel",
            "_view_count": null,
            "_view_module": "@jupyter-widgets/base",
            "_view_module_version": "1.2.0",
            "_view_name": "StyleView",
            "bar_color": null,
            "description_width": ""
          }
        },
        "fbfbec94f05747b1bbce094cb09d372f": {
          "model_module": "@jupyter-widgets/base",
          "model_name": "LayoutModel",
          "model_module_version": "1.2.0",
          "state": {
            "_model_module": "@jupyter-widgets/base",
            "_model_module_version": "1.2.0",
            "_model_name": "LayoutModel",
            "_view_count": null,
            "_view_module": "@jupyter-widgets/base",
            "_view_module_version": "1.2.0",
            "_view_name": "LayoutView",
            "align_content": null,
            "align_items": null,
            "align_self": null,
            "border": null,
            "bottom": null,
            "display": null,
            "flex": null,
            "flex_flow": null,
            "grid_area": null,
            "grid_auto_columns": null,
            "grid_auto_flow": null,
            "grid_auto_rows": null,
            "grid_column": null,
            "grid_gap": null,
            "grid_row": null,
            "grid_template_areas": null,
            "grid_template_columns": null,
            "grid_template_rows": null,
            "height": null,
            "justify_content": null,
            "justify_items": null,
            "left": null,
            "margin": null,
            "max_height": null,
            "max_width": null,
            "min_height": null,
            "min_width": null,
            "object_fit": null,
            "object_position": null,
            "order": null,
            "overflow": null,
            "overflow_x": null,
            "overflow_y": null,
            "padding": null,
            "right": null,
            "top": null,
            "visibility": null,
            "width": null
          }
        },
        "c8a0995deee24d058142d7a3ad6165cb": {
          "model_module": "@jupyter-widgets/controls",
          "model_name": "DescriptionStyleModel",
          "model_module_version": "1.5.0",
          "state": {
            "_model_module": "@jupyter-widgets/controls",
            "_model_module_version": "1.5.0",
            "_model_name": "DescriptionStyleModel",
            "_view_count": null,
            "_view_module": "@jupyter-widgets/base",
            "_view_module_version": "1.2.0",
            "_view_name": "StyleView",
            "description_width": ""
          }
        }
      }
    }
  },
  "nbformat": 4,
  "nbformat_minor": 0
}